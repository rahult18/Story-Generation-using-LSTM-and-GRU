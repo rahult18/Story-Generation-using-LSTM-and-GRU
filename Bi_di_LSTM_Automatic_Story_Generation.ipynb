{
  "nbformat": 4,
  "nbformat_minor": 5,
  "metadata": {
    "accelerator": "GPU",
    "colab": {
      "name": "Bi_di_LSTM_Automatic_Story_Generation.ipynb",
      "provenance": [],
      "collapsed_sections": []
    },
    "kernelspec": {
      "display_name": "Python 3",
      "language": "python",
      "name": "python3"
    },
    "language_info": {
      "codemirror_mode": {
        "name": "ipython",
        "version": 3
      },
      "file_extension": ".py",
      "mimetype": "text/x-python",
      "name": "python",
      "nbconvert_exporter": "python",
      "pygments_lexer": "ipython3",
      "version": "3.8.8"
    }
  },
  "cells": [
    {
      "cell_type": "markdown",
      "metadata": {
        "id": "3878ac84"
      },
      "source": [
        "# **CSE4022: Natural Language Proccessing J Component (Slot:B2)**\n",
        "## **Project Title:** Automatic Story Generation\n",
        "### **Team Members:**\n",
        "1.   Talatala Rahul Reddy  (19BCE1778)\n",
        "2.   Pulimi Bhargava Reddy (19BCE1342)\n",
        "\n",
        "#### In this notebook we have trained the Bi-directional LSTM Model on multiple short stories"
      ],
      "id": "3878ac84"
    },
    {
      "cell_type": "markdown",
      "metadata": {
        "id": "lobZMpVoeGL5"
      },
      "source": [
        "### Importing Libraries & Downloading Dependecies"
      ],
      "id": "lobZMpVoeGL5"
    },
    {
      "cell_type": "code",
      "metadata": {
        "colab": {
          "base_uri": "https://localhost:8080/"
        },
        "id": "0c6e038e",
        "outputId": "70e86bc5-2cfb-405c-e425-a3404f953401"
      },
      "source": [
        "#%tensorflow_version 2.x  #selects the tensorflow 2.0+ version\n",
        "import tensorflow as tf\n",
        "import string\n",
        "import requests\n",
        "import nltk\n",
        "import bs4\n",
        "import re\n",
        "import nltk\n",
        "nltk.download('punkt')\n",
        "import numpy as np\n",
        "from tensorflow.keras.preprocessing.text import Tokenizer\n",
        "from tensorflow.keras.utils import to_categorical\n",
        "from tensorflow.keras.models import Sequential\n",
        "from tensorflow.keras.layers import Dense, Dropout, GRU, Embedding, Bidirectional, LSTM\n",
        "from tensorflow.keras.preprocessing.sequence import pad_sequences"
      ],
      "id": "0c6e038e",
      "execution_count": null,
      "outputs": [
        {
          "output_type": "stream",
          "name": "stdout",
          "text": [
            "[nltk_data] Downloading package punkt to /root/nltk_data...\n",
            "[nltk_data]   Package punkt is already up-to-date!\n"
          ]
        }
      ]
    },
    {
      "cell_type": "markdown",
      "metadata": {
        "id": "Wre8x-2DeQd1"
      },
      "source": [
        "### Scraping the Short Stories Website http://www.classicshorts.com/ to train the above models"
      ],
      "id": "Wre8x-2DeQd1"
    },
    {
      "cell_type": "code",
      "metadata": {
        "id": "SWWjOq2pm7RM"
      },
      "source": [
        "#return bs4 object\n",
        "def getPage(url,headers):\n",
        "    res = requests.get(url, headers=headers)\n",
        "    try:\n",
        "        res.raise_for_status()\n",
        "    except:\n",
        "        pass\n",
        "    pageHtml=bs4.BeautifulSoup(res.text,'html.parser')\n",
        "    return pageHtml\n",
        "\n",
        "#check if previous scrape already contained the given listing\n",
        "def getStoryText(link):\n",
        "    regex = re.compile(r'[\\n\\r\\t]')\n",
        "    headers = {'User-Agent': 'Mozilla/5.0'}\n",
        "    pageHtml=getPage(link,headers)\n",
        "    elems = pageHtml.find_all(\"div\", class_=\"StoryPara\")\n",
        "    totalText = \"\"\n",
        "    for e in elems:\n",
        "        totalText += regex.sub(\" \", e.text.strip())\n",
        "    return totalText\n",
        "\n",
        "# Returns an array of dcitionaries - turnip listings\n",
        "def getListings():\n",
        "    no_of_stories = 0\n",
        "    badTitles = {'tlrm','fiddler','frog','ItalianMaster','luck'}\n",
        "    #f = open(\"short_stories.txt\", \"a\", encoding='utf-8')\n",
        "    url = \"http://www.classicshorts.com/bib.html\"\n",
        "    headers = {'User-Agent': 'Mozilla/5.0'}\n",
        "    storyTexts = []\n",
        "    rawText = \"\"\n",
        "    pageHtml=getPage(url,headers)\n",
        "    elems = pageHtml.find_all(\"div\", class_=\"biolisting\")\n",
        "    for e in elems:\n",
        "        currentUrl = \"http://www.classicshorts.com/stories/\"+e.attrs['onclick'][11:-2]+\".html\"\n",
        "        if e.attrs['onclick'][11:-2] not in badTitles:\n",
        "            pog = getStoryText(currentUrl)\n",
        "            storyTexts.append(pog)\n",
        "            no_of_stories = no_of_stories + 1\n",
        "            #print(\"No of Stories:\"+str(no_of_stories))\n",
        "            rawText += pog\n",
        "        if no_of_stories == 100:\n",
        "            break\n",
        "        \n",
        "    #print(\"Len of story texts:\"+str(len(storyTexts)))\n",
        "    #print(\"No of stories:\"+str(no_of_stories))\n",
        "    #print(storyTexts)\n",
        "    #f.write(rawText)\n",
        "    #f.close()\n",
        "    return rawText"
      ],
      "id": "SWWjOq2pm7RM",
      "execution_count": null,
      "outputs": []
    },
    {
      "cell_type": "code",
      "metadata": {
        "colab": {
          "base_uri": "https://localhost:8080/"
        },
        "id": "69c3f921",
        "outputId": "10511618-bc1d-453b-e0e4-b3e8f7acbed5"
      },
      "source": [
        "#fetching the short stories by scraping\n",
        "stories = getListings()\n",
        "stories = stories[81:]\n",
        "len(stories)"
      ],
      "id": "69c3f921",
      "execution_count": null,
      "outputs": [
        {
          "output_type": "execute_result",
          "data": {
            "text/plain": [
              "1983654"
            ]
          },
          "metadata": {},
          "execution_count": 3
        }
      ]
    },
    {
      "cell_type": "markdown",
      "metadata": {
        "id": "Hbp8pUELerMd"
      },
      "source": [
        "### Sentence Tokenising the short-stories"
      ],
      "id": "Hbp8pUELerMd"
    },
    {
      "cell_type": "code",
      "metadata": {
        "colab": {
          "base_uri": "https://localhost:8080/"
        },
        "id": "6c7ad192",
        "outputId": "bd9dd1e9-f3e0-497d-9d05-c390f7b1d4ca"
      },
      "source": [
        "#performing sentence tokenisation\n",
        "from nltk.tokenize import sent_tokenize\n",
        "sentences = sent_tokenize(stories)\n",
        "len(sentences)"
      ],
      "id": "6c7ad192",
      "execution_count": null,
      "outputs": [
        {
          "output_type": "execute_result",
          "data": {
            "text/plain": [
              "20516"
            ]
          },
          "metadata": {},
          "execution_count": 4
        }
      ]
    },
    {
      "cell_type": "code",
      "metadata": {
        "colab": {
          "base_uri": "https://localhost:8080/"
        },
        "id": "eddd5645",
        "outputId": "890d1b90-b5dd-4f73-b8d7-022ad0f0cb0e"
      },
      "source": [
        "#displays first 3 sentences\n",
        "sentences[:3]"
      ],
      "id": "eddd5645",
      "execution_count": null,
      "outputs": [
        {
          "output_type": "execute_result",
          "data": {
            "text/plain": [
              "['My Dear Sir: I am happy to assure you that your anxiety is without reason.',\n",
              " 'Flemming will be confined to the sofa for three or four weeks, and will have to be careful at first how he uses his leg.',\n",
              " 'A fracture of this kind is always a tedious affair.']"
            ]
          },
          "metadata": {},
          "execution_count": 5
        }
      ]
    },
    {
      "cell_type": "markdown",
      "metadata": {
        "id": "Wfdcrf5DexP0"
      },
      "source": [
        "### Tokenising the short stories and cleaning the data"
      ],
      "id": "Wfdcrf5DexP0"
    },
    {
      "cell_type": "code",
      "metadata": {
        "id": "0feece6b"
      },
      "source": [
        "#cleaning the dataset\n",
        "def clean_text(sentences):\n",
        "    #creating tokens from the document\n",
        "    tokens = []\n",
        "    for sentence in sentences:\n",
        "      tokens.extend(nltk.word_tokenize(sentence))\n",
        "    punc = str.maketrans('','',string.punctuation)\n",
        "    #this list will remove punctuations\n",
        "    tokens = [ x.translate(punc) for x in tokens]\n",
        "    #this list will remove special characters\n",
        "    tokens = [ x for x in tokens if x.isalpha()]\n",
        "    #this list converts all the words to lowercase\n",
        "    tokens = [ x.lower() for x in tokens]\n",
        "    return tokens"
      ],
      "id": "0feece6b",
      "execution_count": null,
      "outputs": []
    },
    {
      "cell_type": "code",
      "metadata": {
        "id": "2c6e4842"
      },
      "source": [
        "tokens = clean_text(sentences)"
      ],
      "id": "2c6e4842",
      "execution_count": null,
      "outputs": []
    },
    {
      "cell_type": "code",
      "metadata": {
        "colab": {
          "base_uri": "https://localhost:8080/"
        },
        "id": "9ff718b7",
        "outputId": "f07182e0-9e8b-46c4-aff6-4bfd028570a5"
      },
      "source": [
        "tokens[:10]"
      ],
      "id": "9ff718b7",
      "execution_count": null,
      "outputs": [
        {
          "output_type": "execute_result",
          "data": {
            "text/plain": [
              "['my', 'dear', 'sir', 'i', 'am', 'happy', 'to', 'assure', 'you', 'that']"
            ]
          },
          "metadata": {},
          "execution_count": 8
        }
      ]
    },
    {
      "cell_type": "code",
      "metadata": {
        "colab": {
          "base_uri": "https://localhost:8080/"
        },
        "id": "06cc9ae1",
        "outputId": "40c4aa60-edb0-4792-a1bf-8286d2863dbb"
      },
      "source": [
        "len(tokens) #no of tokens in the 100 short stories"
      ],
      "id": "06cc9ae1",
      "execution_count": null,
      "outputs": [
        {
          "output_type": "execute_result",
          "data": {
            "text/plain": [
              "364182"
            ]
          },
          "metadata": {},
          "execution_count": 9
        }
      ]
    },
    {
      "cell_type": "code",
      "metadata": {
        "colab": {
          "base_uri": "https://localhost:8080/"
        },
        "id": "2aa0e7fc",
        "outputId": "dfb03658-a16f-4a74-b491-ad38cd0d1d5f"
      },
      "source": [
        "len(set(tokens)) #no of unique words in the 100 short stories"
      ],
      "id": "2aa0e7fc",
      "execution_count": null,
      "outputs": [
        {
          "output_type": "execute_result",
          "data": {
            "text/plain": [
              "21957"
            ]
          },
          "metadata": {},
          "execution_count": 10
        }
      ]
    },
    {
      "cell_type": "markdown",
      "metadata": {
        "id": "haUZRZ8oe44G"
      },
      "source": [
        "### Generating sequence of tokens"
      ],
      "id": "haUZRZ8oe44G"
    },
    {
      "cell_type": "code",
      "metadata": {
        "id": "3d8ddc0f"
      },
      "source": [
        "#creating the sequence of tokens\n",
        "length = 50 + 1 #first 50 words as input and 1 as the output\n",
        "lines = []\n",
        "\n",
        "for i in range(length,len(tokens)):\n",
        "    seq = tokens[i-length:i]\n",
        "    line = ' '.join(seq)\n",
        "    lines.append(line)\n",
        "    if i > 110000: #we're only taking few tokens as input for the model\n",
        "        break"
      ],
      "id": "3d8ddc0f",
      "execution_count": null,
      "outputs": []
    },
    {
      "cell_type": "code",
      "metadata": {
        "colab": {
          "base_uri": "https://localhost:8080/"
        },
        "id": "40baa158",
        "outputId": "738010b2-385b-4aa5-a9a2-157df4585494"
      },
      "source": [
        "len(lines)"
      ],
      "id": "40baa158",
      "execution_count": null,
      "outputs": [
        {
          "output_type": "execute_result",
          "data": {
            "text/plain": [
              "109951"
            ]
          },
          "metadata": {},
          "execution_count": 12
        }
      ]
    },
    {
      "cell_type": "code",
      "metadata": {
        "colab": {
          "base_uri": "https://localhost:8080/"
        },
        "id": "185d88a8",
        "outputId": "19177d6c-249c-4291-ee32-1482edbc2de9"
      },
      "source": [
        "lines[:4]"
      ],
      "id": "185d88a8",
      "execution_count": null,
      "outputs": [
        {
          "output_type": "execute_result",
          "data": {
            "text/plain": [
              "['my dear sir i am happy to assure you that your anxiety is without reason flemming will be confined to the sofa for three or four weeks and will have to be careful at first how he uses his leg a fracture of this kind is always a tedious affair fortunately',\n",
              " 'dear sir i am happy to assure you that your anxiety is without reason flemming will be confined to the sofa for three or four weeks and will have to be careful at first how he uses his leg a fracture of this kind is always a tedious affair fortunately the',\n",
              " 'sir i am happy to assure you that your anxiety is without reason flemming will be confined to the sofa for three or four weeks and will have to be careful at first how he uses his leg a fracture of this kind is always a tedious affair fortunately the bone',\n",
              " 'i am happy to assure you that your anxiety is without reason flemming will be confined to the sofa for three or four weeks and will have to be careful at first how he uses his leg a fracture of this kind is always a tedious affair fortunately the bone was']"
            ]
          },
          "metadata": {},
          "execution_count": 13
        }
      ]
    },
    {
      "cell_type": "markdown",
      "metadata": {
        "id": "09e5aa91"
      },
      "source": [
        "### Converting tokens to numerical values"
      ],
      "id": "09e5aa91"
    },
    {
      "cell_type": "code",
      "metadata": {
        "id": "39993bd9"
      },
      "source": [
        "tokenizer = Tokenizer() \n",
        "tokenizer.fit_on_texts(lines) \n",
        "#performing tokenisation on the seq of words (lines) and these seq of words are embedded as integers basically word embedding\n",
        "#every unique token(word) is given an integer as ML model only works on numerical values\n",
        "sequences = tokenizer.texts_to_sequences(lines)"
      ],
      "id": "39993bd9",
      "execution_count": null,
      "outputs": []
    },
    {
      "cell_type": "code",
      "metadata": {
        "colab": {
          "base_uri": "https://localhost:8080/"
        },
        "id": "7500e2bb",
        "outputId": "ecde9a15-4951-4813-fc86-487110cbf10a"
      },
      "source": [
        "tokenizer.word_index "
      ],
      "id": "7500e2bb",
      "execution_count": null,
      "outputs": [
        {
          "output_type": "execute_result",
          "data": {
            "text/plain": [
              "{'the': 1,\n",
              " 'and': 2,\n",
              " 'of': 3,\n",
              " 'a': 4,\n",
              " 'to': 5,\n",
              " 'he': 6,\n",
              " 'in': 7,\n",
              " 'was': 8,\n",
              " 'i': 9,\n",
              " 'his': 10,\n",
              " 'it': 11,\n",
              " 'that': 12,\n",
              " 'had': 13,\n",
              " 'with': 14,\n",
              " 'you': 15,\n",
              " 'she': 16,\n",
              " 'on': 17,\n",
              " 'at': 18,\n",
              " 'her': 19,\n",
              " 'as': 20,\n",
              " 's': 21,\n",
              " 'for': 22,\n",
              " 'him': 23,\n",
              " 'not': 24,\n",
              " 'but': 25,\n",
              " 'is': 26,\n",
              " 'they': 27,\n",
              " 'from': 28,\n",
              " 'were': 29,\n",
              " 'my': 30,\n",
              " 'said': 31,\n",
              " 'there': 32,\n",
              " 'be': 33,\n",
              " 'all': 34,\n",
              " 'by': 35,\n",
              " 'one': 36,\n",
              " 'have': 37,\n",
              " 'me': 38,\n",
              " 'would': 39,\n",
              " 'nt': 40,\n",
              " 'an': 41,\n",
              " 'no': 42,\n",
              " 'out': 43,\n",
              " 'up': 44,\n",
              " 'this': 45,\n",
              " 'which': 46,\n",
              " 'what': 47,\n",
              " 'when': 48,\n",
              " 'man': 49,\n",
              " 'we': 50,\n",
              " 'so': 51,\n",
              " 'do': 52,\n",
              " 'them': 53,\n",
              " 'then': 54,\n",
              " 'into': 55,\n",
              " 'or': 56,\n",
              " 'their': 57,\n",
              " 'could': 58,\n",
              " 'now': 59,\n",
              " 'if': 60,\n",
              " 'been': 61,\n",
              " 'like': 62,\n",
              " 'are': 63,\n",
              " 'did': 64,\n",
              " 'about': 65,\n",
              " 'down': 66,\n",
              " 'who': 67,\n",
              " 'your': 68,\n",
              " 'some': 69,\n",
              " 'little': 70,\n",
              " 'over': 71,\n",
              " 'only': 72,\n",
              " 'will': 73,\n",
              " 'eyes': 74,\n",
              " 'time': 75,\n",
              " 'more': 76,\n",
              " 'old': 77,\n",
              " 'very': 78,\n",
              " 'back': 79,\n",
              " 'made': 80,\n",
              " 'come': 81,\n",
              " 'again': 82,\n",
              " 'know': 83,\n",
              " 'go': 84,\n",
              " 'himself': 85,\n",
              " 'where': 86,\n",
              " 'thought': 87,\n",
              " 'see': 88,\n",
              " 'before': 89,\n",
              " 'our': 90,\n",
              " 'two': 91,\n",
              " 'looked': 92,\n",
              " 'went': 93,\n",
              " 'hand': 94,\n",
              " 'll': 95,\n",
              " 'can': 96,\n",
              " 'am': 97,\n",
              " 'than': 98,\n",
              " 'came': 99,\n",
              " 'after': 100,\n",
              " 'rainsford': 101,\n",
              " 'first': 102,\n",
              " 'how': 103,\n",
              " 'day': 104,\n",
              " 'has': 105,\n",
              " 'upon': 106,\n",
              " 'well': 107,\n",
              " 'good': 108,\n",
              " 'through': 109,\n",
              " 'its': 110,\n",
              " 'long': 111,\n",
              " 'other': 112,\n",
              " 'father': 113,\n",
              " 'general': 114,\n",
              " 'too': 115,\n",
              " 'any': 116,\n",
              " 'here': 117,\n",
              " 'away': 118,\n",
              " 'still': 119,\n",
              " 'night': 120,\n",
              " 'saw': 121,\n",
              " 'head': 122,\n",
              " 'room': 123,\n",
              " 'think': 124,\n",
              " 'boy': 125,\n",
              " 'face': 126,\n",
              " 'right': 127,\n",
              " 'house': 128,\n",
              " 'say': 129,\n",
              " 'off': 130,\n",
              " 'way': 131,\n",
              " 'without': 132,\n",
              " 'must': 133,\n",
              " 'young': 134,\n",
              " 'get': 135,\n",
              " 'men': 136,\n",
              " 'just': 137,\n",
              " 'got': 138,\n",
              " 'much': 139,\n",
              " 'seemed': 140,\n",
              " 'even': 141,\n",
              " 'put': 142,\n",
              " 'look': 143,\n",
              " 'water': 144,\n",
              " 'these': 145,\n",
              " 'mr': 146,\n",
              " 'never': 147,\n",
              " 'something': 148,\n",
              " 'baron': 149,\n",
              " 'heard': 150,\n",
              " 'life': 151,\n",
              " 'took': 152,\n",
              " 'great': 153,\n",
              " 'make': 154,\n",
              " 'should': 155,\n",
              " 'turned': 156,\n",
              " 'us': 157,\n",
              " 'last': 158,\n",
              " 'take': 159,\n",
              " 'door': 160,\n",
              " 'paul': 161,\n",
              " 'nothing': 162,\n",
              " 'knew': 163,\n",
              " 'every': 164,\n",
              " 'moment': 165,\n",
              " 'under': 166,\n",
              " 'sat': 167,\n",
              " 'asked': 168,\n",
              " 'left': 169,\n",
              " 'going': 170,\n",
              " 'hands': 171,\n",
              " 'might': 172,\n",
              " 'home': 173,\n",
              " 'place': 174,\n",
              " 'looking': 175,\n",
              " 'began': 176,\n",
              " 'always': 177,\n",
              " 've': 178,\n",
              " 'mother': 179,\n",
              " 'few': 180,\n",
              " 'because': 181,\n",
              " 'why': 182,\n",
              " 'mrs': 183,\n",
              " 'such': 184,\n",
              " 'new': 185,\n",
              " 'another': 186,\n",
              " 'once': 187,\n",
              " 'three': 188,\n",
              " 'own': 189,\n",
              " 'felt': 190,\n",
              " 'table': 191,\n",
              " 'many': 192,\n",
              " 'small': 193,\n",
              " 'd': 194,\n",
              " 'while': 195,\n",
              " 'marshall': 196,\n",
              " 'against': 197,\n",
              " 'being': 198,\n",
              " 'yes': 199,\n",
              " 'white': 200,\n",
              " 'dark': 201,\n",
              " 'm': 202,\n",
              " 'found': 203,\n",
              " 'side': 204,\n",
              " 'bed': 205,\n",
              " 'perhaps': 206,\n",
              " 'tell': 207,\n",
              " 'light': 208,\n",
              " 'people': 209,\n",
              " 'may': 210,\n",
              " 'told': 211,\n",
              " 'feet': 212,\n",
              " 'same': 213,\n",
              " 'thing': 214,\n",
              " 'street': 215,\n",
              " 'air': 216,\n",
              " 'most': 217,\n",
              " 'lay': 218,\n",
              " 'black': 219,\n",
              " 'seen': 220,\n",
              " 'gave': 221,\n",
              " 'road': 222,\n",
              " 'years': 223,\n",
              " 'stood': 224,\n",
              " 'world': 225,\n",
              " 'those': 226,\n",
              " 'better': 227,\n",
              " 'shall': 228,\n",
              " 'though': 229,\n",
              " 'behind': 230,\n",
              " 'mind': 231,\n",
              " 'morning': 232,\n",
              " 'things': 233,\n",
              " 'each': 234,\n",
              " 'let': 235,\n",
              " 'enough': 236,\n",
              " 'give': 237,\n",
              " 'find': 238,\n",
              " 'window': 239,\n",
              " 'evening': 240,\n",
              " 'trees': 241,\n",
              " 'quite': 242,\n",
              " 'until': 243,\n",
              " 'along': 244,\n",
              " 'camp': 245,\n",
              " 'brennen': 246,\n",
              " 'woman': 247,\n",
              " 'between': 248,\n",
              " 'sound': 249,\n",
              " 'family': 250,\n",
              " 'fell': 251,\n",
              " 'high': 252,\n",
              " 'around': 253,\n",
              " 'both': 254,\n",
              " 'ever': 255,\n",
              " 'almost': 256,\n",
              " 'red': 257,\n",
              " 'whole': 258,\n",
              " 'feeling': 259,\n",
              " 'voice': 260,\n",
              " 'big': 261,\n",
              " 'duvitch': 262,\n",
              " 'anything': 263,\n",
              " 'far': 264,\n",
              " 'heart': 265,\n",
              " 'cold': 266,\n",
              " 'round': 267,\n",
              " 'next': 268,\n",
              " 'fear': 269,\n",
              " 'held': 270,\n",
              " 'wife': 271,\n",
              " 'bet': 272,\n",
              " 'fine': 273,\n",
              " 'coming': 274,\n",
              " 'taken': 275,\n",
              " 'having': 276,\n",
              " 'want': 277,\n",
              " 'later': 278,\n",
              " 'children': 279,\n",
              " 'end': 280,\n",
              " 'john': 281,\n",
              " 'together': 282,\n",
              " 'sun': 283,\n",
              " 'yet': 284,\n",
              " 'days': 285,\n",
              " 'called': 286,\n",
              " 're': 287,\n",
              " 'tom': 288,\n",
              " 'miss': 289,\n",
              " 'dead': 290,\n",
              " 'car': 291,\n",
              " 'francis': 292,\n",
              " 'brought': 293,\n",
              " 'across': 294,\n",
              " 'smile': 295,\n",
              " 'half': 296,\n",
              " 'girl': 297,\n",
              " 'year': 298,\n",
              " 'rather': 299,\n",
              " 'four': 300,\n",
              " 'used': 301,\n",
              " 'feel': 302,\n",
              " 'lost': 303,\n",
              " 'everything': 304,\n",
              " 'walked': 305,\n",
              " 'duvitches': 306,\n",
              " 'passed': 307,\n",
              " 'child': 308,\n",
              " 'dear': 309,\n",
              " 'figure': 310,\n",
              " 'stopped': 311,\n",
              " 'god': 312,\n",
              " 'remembered': 313,\n",
              " 'wanted': 314,\n",
              " 'open': 315,\n",
              " 'hanley': 316,\n",
              " 'dick': 317,\n",
              " 'kind': 318,\n",
              " 'sometimes': 319,\n",
              " 'large': 320,\n",
              " 'daw': 321,\n",
              " 'opened': 322,\n",
              " 'slowly': 323,\n",
              " 'school': 324,\n",
              " 'boys': 325,\n",
              " 'longer': 326,\n",
              " 'ca': 327,\n",
              " 'town': 328,\n",
              " 'sit': 329,\n",
              " 'whom': 330,\n",
              " 'fire': 331,\n",
              " 'nor': 332,\n",
              " 'returned': 333,\n",
              " 'suddenly': 334,\n",
              " 'terenty': 335,\n",
              " 'peter': 336,\n",
              " 'senator': 337,\n",
              " 'sleep': 338,\n",
              " 'part': 339,\n",
              " 'hair': 340,\n",
              " 'silence': 341,\n",
              " 'second': 342,\n",
              " 'myself': 343,\n",
              " 'country': 344,\n",
              " 'de': 345,\n",
              " 'olenka': 346,\n",
              " 'nurse': 347,\n",
              " 'near': 348,\n",
              " 'times': 349,\n",
              " 'hour': 350,\n",
              " 'course': 351,\n",
              " 'soon': 352,\n",
              " 'soldier': 353,\n",
              " 'followed': 354,\n",
              " 'cried': 355,\n",
              " 'call': 356,\n",
              " 'lights': 357,\n",
              " 'above': 358,\n",
              " 'bar': 359,\n",
              " 'really': 360,\n",
              " 'love': 361,\n",
              " 'herself': 362,\n",
              " 'hundred': 363,\n",
              " 'alone': 364,\n",
              " 'rose': 365,\n",
              " 'gone': 366,\n",
              " 'caught': 367,\n",
              " 'toward': 368,\n",
              " 'death': 369,\n",
              " 'johnny': 370,\n",
              " 'leg': 371,\n",
              " 'friend': 372,\n",
              " 'sea': 373,\n",
              " 'full': 374,\n",
              " 'name': 375,\n",
              " 'sort': 376,\n",
              " 'talk': 377,\n",
              " 'rain': 378,\n",
              " 'lips': 379,\n",
              " 'glass': 380,\n",
              " 'afraid': 381,\n",
              " 'bank': 382,\n",
              " 'hunting': 383,\n",
              " 'does': 384,\n",
              " 'blue': 385,\n",
              " 'leave': 386,\n",
              " 'legs': 387,\n",
              " 'brother': 388,\n",
              " 'known': 389,\n",
              " 'interest': 390,\n",
              " 'already': 391,\n",
              " 'among': 392,\n",
              " 'sitting': 393,\n",
              " 'garden': 394,\n",
              " 'store': 395,\n",
              " 'whether': 396,\n",
              " 'lived': 397,\n",
              " 'fish': 398,\n",
              " 'oclock': 399,\n",
              " 'set': 400,\n",
              " 'beyond': 401,\n",
              " 'best': 402,\n",
              " 'front': 403,\n",
              " 'ran': 404,\n",
              " 'hard': 405,\n",
              " 'friends': 406,\n",
              " 'play': 407,\n",
              " 'certainly': 408,\n",
              " 'kept': 409,\n",
              " 'reached': 410,\n",
              " 'oh': 411,\n",
              " 'drink': 412,\n",
              " 'chair': 413,\n",
              " 'finger': 414,\n",
              " 'standing': 415,\n",
              " 'ready': 416,\n",
              " 'read': 417,\n",
              " 'turn': 418,\n",
              " 'moved': 419,\n",
              " 'hot': 420,\n",
              " 'hear': 421,\n",
              " 'party': 422,\n",
              " 'stay': 423,\n",
              " 'carried': 424,\n",
              " 'tried': 425,\n",
              " 'smiled': 426,\n",
              " 'horse': 427,\n",
              " 'luck': 428,\n",
              " 'beside': 429,\n",
              " 'fall': 430,\n",
              " 'bad': 431,\n",
              " 'afternoon': 432,\n",
              " 'five': 433,\n",
              " 'livingstone': 434,\n",
              " 'wild': 435,\n",
              " 'ten': 436,\n",
              " 'word': 437,\n",
              " 'women': 438,\n",
              " 'walk': 439,\n",
              " 'holding': 440,\n",
              " 'given': 441,\n",
              " 'shook': 442,\n",
              " 'sky': 443,\n",
              " 'body': 444,\n",
              " 'tree': 445,\n",
              " 'grew': 446,\n",
              " 'added': 447,\n",
              " 'george': 448,\n",
              " 'stumpy': 449,\n",
              " 'poor': 450,\n",
              " 'money': 451,\n",
              " 'jack': 452,\n",
              " 'colonel': 453,\n",
              " 'thinking': 454,\n",
              " 'short': 455,\n",
              " 'became': 456,\n",
              " 'words': 457,\n",
              " 'done': 458,\n",
              " 'doctor': 459,\n",
              " 'watching': 460,\n",
              " 'sign': 461,\n",
              " 'please': 462,\n",
              " 'roaring': 463,\n",
              " 'kitchen': 464,\n",
              " 'consul': 465,\n",
              " 'sure': 466,\n",
              " 'wish': 467,\n",
              " 'letter': 468,\n",
              " 'since': 469,\n",
              " 'banker': 470,\n",
              " 'met': 471,\n",
              " 'game': 472,\n",
              " 'answered': 473,\n",
              " 'show': 474,\n",
              " 'closed': 475,\n",
              " 'quickly': 476,\n",
              " 'need': 477,\n",
              " 'darling': 478,\n",
              " 'ivan': 479,\n",
              " 'uncle': 480,\n",
              " 'state': 481,\n",
              " 'fellow': 482,\n",
              " 'story': 483,\n",
              " 'minutes': 484,\n",
              " 'tea': 485,\n",
              " 'possible': 486,\n",
              " 'forward': 487,\n",
              " 'believe': 488,\n",
              " 'understand': 489,\n",
              " 'business': 490,\n",
              " 'within': 491,\n",
              " 'help': 492,\n",
              " 'whose': 493,\n",
              " 'yellow': 494,\n",
              " 'lying': 495,\n",
              " 'panther': 496,\n",
              " 'wo': 497,\n",
              " 'cry': 498,\n",
              " 'wall': 499,\n",
              " 'outside': 500,\n",
              " 'river': 501,\n",
              " 'empty': 502,\n",
              " 'doing': 503,\n",
              " 'tears': 504,\n",
              " 'books': 505,\n",
              " 'case': 506,\n",
              " 'piece': 507,\n",
              " 'taking': 508,\n",
              " 'keep': 509,\n",
              " 'sent': 510,\n",
              " 'deep': 511,\n",
              " 'several': 512,\n",
              " 'animal': 513,\n",
              " 'office': 514,\n",
              " 'towards': 515,\n",
              " 'continued': 516,\n",
              " 'cut': 517,\n",
              " 'shot': 518,\n",
              " 'hope': 519,\n",
              " 'making': 520,\n",
              " 'watched': 521,\n",
              " 'hannah': 522,\n",
              " 'supper': 523,\n",
              " 'reason': 524,\n",
              " 'certain': 525,\n",
              " 'hours': 526,\n",
              " 'else': 527,\n",
              " 'miles': 528,\n",
              " 'wind': 529,\n",
              " 'dinner': 530,\n",
              " 'late': 531,\n",
              " 'fingers': 532,\n",
              " 'island': 533,\n",
              " 'sense': 534,\n",
              " 'matter': 535,\n",
              " 'dog': 536,\n",
              " 'asleep': 537,\n",
              " 'straight': 538,\n",
              " 'live': 539,\n",
              " 'hotel': 540,\n",
              " 'soft': 541,\n",
              " 'warm': 542,\n",
              " 'neck': 543,\n",
              " 'husband': 544,\n",
              " 'saying': 545,\n",
              " 'six': 546,\n",
              " 'remember': 547,\n",
              " 'floor': 548,\n",
              " 'eat': 549,\n",
              " 'manner': 550,\n",
              " 'line': 551,\n",
              " 'green': 552,\n",
              " 'suppose': 553,\n",
              " 'rest': 554,\n",
              " 'past': 555,\n",
              " 'struck': 556,\n",
              " 'strange': 557,\n",
              " 'run': 558,\n",
              " 'walking': 559,\n",
              " 'wait': 560,\n",
              " 'top': 561,\n",
              " 'mouth': 562,\n",
              " 'knife': 563,\n",
              " 'either': 564,\n",
              " 'low': 565,\n",
              " 'bridge': 566,\n",
              " 'happy': 567,\n",
              " 'silent': 568,\n",
              " 'themselves': 569,\n",
              " 'fact': 570,\n",
              " 'company': 571,\n",
              " 'seeing': 572,\n",
              " 'sorry': 573,\n",
              " 'beautiful': 574,\n",
              " 'point': 575,\n",
              " 'doubt': 576,\n",
              " 'hold': 577,\n",
              " 'ground': 578,\n",
              " 'teeth': 579,\n",
              " 'work': 580,\n",
              " 'darkness': 581,\n",
              " 'also': 582,\n",
              " 'beginning': 583,\n",
              " 'pulled': 584,\n",
              " 'says': 585,\n",
              " 'hardly': 586,\n",
              " 'sharp': 587,\n",
              " 'replied': 588,\n",
              " 'touched': 589,\n",
              " 'wine': 590,\n",
              " 'zaroff': 591,\n",
              " 'admiral': 592,\n",
              " 'pleasure': 593,\n",
              " 'least': 594,\n",
              " 'present': 595,\n",
              " 'character': 596,\n",
              " 'wide': 597,\n",
              " 'move': 598,\n",
              " 'dust': 599,\n",
              " 'idea': 600,\n",
              " 'gentleman': 601,\n",
              " 'pretty': 602,\n",
              " 'host': 603,\n",
              " 'o': 604,\n",
              " 'tall': 605,\n",
              " 'son': 606,\n",
              " 'bright': 607,\n",
              " 'easy': 608,\n",
              " 'spoke': 609,\n",
              " 'talking': 610,\n",
              " 'earth': 611,\n",
              " 'speak': 612,\n",
              " 'leaving': 613,\n",
              " 'gate': 614,\n",
              " 'shoulder': 615,\n",
              " 'threw': 616,\n",
              " 'arms': 617,\n",
              " 'soldiers': 618,\n",
              " 'showed': 619,\n",
              " 'noise': 620,\n",
              " 'steps': 621,\n",
              " 'less': 622,\n",
              " 'answer': 623,\n",
              " 'food': 624,\n",
              " 'repeated': 625,\n",
              " 'hunt': 626,\n",
              " 'american': 627,\n",
              " 'von': 628,\n",
              " 'castle': 629,\n",
              " 'tennessee': 630,\n",
              " 'fallen': 631,\n",
              " 'become': 632,\n",
              " 'summer': 633,\n",
              " 'delaney': 634,\n",
              " 'houses': 635,\n",
              " 'bring': 636,\n",
              " 'broken': 637,\n",
              " 'often': 638,\n",
              " 'mean': 639,\n",
              " 'marjorie': 640,\n",
              " 'pay': 641,\n",
              " 'distance': 642,\n",
              " 'strong': 643,\n",
              " 'eye': 644,\n",
              " 'moving': 645,\n",
              " 'flowers': 646,\n",
              " 'stand': 647,\n",
              " 'trouble': 648,\n",
              " 'bottle': 649,\n",
              " 'fresh': 650,\n",
              " 'clouds': 651,\n",
              " 'music': 652,\n",
              " 'sudden': 653,\n",
              " 'stream': 654,\n",
              " 'foot': 655,\n",
              " 'captain': 656,\n",
              " 'dodd': 657,\n",
              " 'laughed': 658,\n",
              " 'english': 659,\n",
              " 'number': 660,\n",
              " 'yacht': 661,\n",
              " 'lighter': 662,\n",
              " 'ought': 663,\n",
              " 'prisoner': 664,\n",
              " 'soul': 665,\n",
              " 'except': 666,\n",
              " 'write': 667,\n",
              " 'arm': 668,\n",
              " 'shoulders': 669,\n",
              " 'windows': 670,\n",
              " 'send': 671,\n",
              " 'bear': 672,\n",
              " 'rich': 673,\n",
              " 'winter': 674,\n",
              " 'nice': 675,\n",
              " 'order': 676,\n",
              " 'gold': 677,\n",
              " 'laugh': 678,\n",
              " 'plain': 679,\n",
              " 'means': 680,\n",
              " 'during': 681,\n",
              " 'stop': 682,\n",
              " 'led': 683,\n",
              " 'ah': 684,\n",
              " 'conscious': 685,\n",
              " 'fool': 686,\n",
              " 'below': 687,\n",
              " 'chest': 688,\n",
              " 'brain': 689,\n",
              " 'creek': 690,\n",
              " 'smiling': 691,\n",
              " 'tired': 692,\n",
              " 'begin': 693,\n",
              " 'happened': 694,\n",
              " 'explained': 695,\n",
              " 'board': 696,\n",
              " 'hall': 697,\n",
              " 'married': 698,\n",
              " 'bit': 699,\n",
              " 'hennefalcon': 700,\n",
              " 'ask': 701,\n",
              " 'flemming': 702,\n",
              " 'care': 703,\n",
              " 'pines': 704,\n",
              " 'breath': 705,\n",
              " 'nearly': 706,\n",
              " 'ill': 707,\n",
              " 'thousand': 708,\n",
              " 'silver': 709,\n",
              " 'able': 710,\n",
              " 'attention': 711,\n",
              " 'sick': 712,\n",
              " 'fair': 713,\n",
              " 'pass': 714,\n",
              " 'lady': 715,\n",
              " 'hat': 716,\n",
              " 'cigar': 717,\n",
              " 'pleasant': 718,\n",
              " 'moments': 719,\n",
              " 'dropped': 720,\n",
              " 'real': 721,\n",
              " 'service': 722,\n",
              " 'presence': 723,\n",
              " 'palm': 724,\n",
              " 'hill': 725,\n",
              " 'human': 726,\n",
              " 'further': 727,\n",
              " 'ears': 728,\n",
              " 'lifted': 729,\n",
              " 'gray': 730,\n",
              " 'tomorrow': 731,\n",
              " 'thank': 732,\n",
              " 'perfect': 733,\n",
              " 'started': 734,\n",
              " 'dressed': 735,\n",
              " 'lodge': 736,\n",
              " 'loved': 737,\n",
              " 'yard': 738,\n",
              " 'fyokla': 739,\n",
              " 'pond': 740,\n",
              " 'surgeon': 741,\n",
              " 'natural': 742,\n",
              " 'follow': 743,\n",
              " 'living': 744,\n",
              " 'lie': 745,\n",
              " 'weather': 746,\n",
              " 'ago': 747,\n",
              " 'week': 748,\n",
              " 'daughter': 749,\n",
              " 'killed': 750,\n",
              " 'church': 751,\n",
              " 'indeed': 752,\n",
              " 'pale': 753,\n",
              " 'listening': 754,\n",
              " 'true': 755,\n",
              " 'habit': 756,\n",
              " 'lot': 757,\n",
              " 'wrong': 758,\n",
              " 'local': 759,\n",
              " 'laid': 760,\n",
              " 'officer': 761,\n",
              " 'horses': 762,\n",
              " 'use': 763,\n",
              " 'free': 764,\n",
              " 'strength': 765,\n",
              " 'terrible': 766,\n",
              " 'memory': 767,\n",
              " 'enemy': 768,\n",
              " 'form': 769,\n",
              " 'waited': 770,\n",
              " 'raised': 771,\n",
              " 'finished': 772,\n",
              " 'wondered': 773,\n",
              " 'trying': 774,\n",
              " 'tonight': 775,\n",
              " 'others': 776,\n",
              " 'valley': 777,\n",
              " 'edge': 778,\n",
              " 'quietly': 779,\n",
              " 'sergeant': 780,\n",
              " 'train': 781,\n",
              " 'clothes': 782,\n",
              " 'stories': 783,\n",
              " 'ahineev': 784,\n",
              " 'vane': 785,\n",
              " 'peaches': 786,\n",
              " 'swamp': 787,\n",
              " 'porto': 788,\n",
              " 'koëldwethout': 789,\n",
              " 'pain': 790,\n",
              " 'change': 791,\n",
              " 'impossible': 792,\n",
              " 'knows': 793,\n",
              " 'rooms': 794,\n",
              " 'girls': 795,\n",
              " 'dress': 796,\n",
              " 'till': 797,\n",
              " 'staring': 798,\n",
              " 'months': 799,\n",
              " 'expect': 800,\n",
              " 'mine': 801,\n",
              " 'war': 802,\n",
              " 'remained': 803,\n",
              " 'nature': 804,\n",
              " 'noticed': 805,\n",
              " 'visit': 806,\n",
              " 'return': 807,\n",
              " 'heavy': 808,\n",
              " 'seat': 809,\n",
              " 'paper': 810,\n",
              " 'probably': 811,\n",
              " 'notice': 812,\n",
              " 'entirely': 813,\n",
              " 'following': 814,\n",
              " 'knees': 815,\n",
              " 'direction': 816,\n",
              " 'desert': 817,\n",
              " 'sight': 818,\n",
              " 'land': 819,\n",
              " 'faces': 820,\n",
              " 'middle': 821,\n",
              " 'terror': 822,\n",
              " 'blood': 823,\n",
              " 'pointed': 824,\n",
              " 'running': 825,\n",
              " 'quiet': 826,\n",
              " 'shut': 827,\n",
              " 'observed': 828,\n",
              " 'learned': 829,\n",
              " 'bare': 830,\n",
              " 'coat': 831,\n",
              " 'wood': 832,\n",
              " 'inside': 833,\n",
              " 'fast': 834,\n",
              " 'exclaimed': 835,\n",
              " 'snow': 836,\n",
              " 'guests': 837,\n",
              " 'millions': 838,\n",
              " 'nails': 839,\n",
              " 'lincoln': 840,\n",
              " 'banos': 841,\n",
              " 'baroness': 842,\n",
              " 'christiana': 843,\n",
              " 'simpson': 844,\n",
              " 'jovita': 845,\n",
              " 'sir': 846,\n",
              " 'break': 847,\n",
              " 'familiar': 848,\n",
              " 'touch': 849,\n",
              " 'drew': 850,\n",
              " 'beauty': 851,\n",
              " 'weak': 852,\n",
              " 'talked': 853,\n",
              " 'played': 854,\n",
              " 'afterwards': 855,\n",
              " 'glance': 856,\n",
              " 'remarked': 857,\n",
              " 'desire': 858,\n",
              " 'usual': 859,\n",
              " 'faint': 860,\n",
              " 'itself': 861,\n",
              " 'giving': 862,\n",
              " 'york': 863,\n",
              " 'duty': 864,\n",
              " 'question': 865,\n",
              " 'stepped': 866,\n",
              " 'entered': 867,\n",
              " 'expression': 868,\n",
              " 'thin': 869,\n",
              " 'minute': 870,\n",
              " 'close': 871,\n",
              " 'filled': 872,\n",
              " 'watch': 873,\n",
              " 'covered': 874,\n",
              " 'playing': 875,\n",
              " 'corner': 876,\n",
              " 'someone': 877,\n",
              " 'none': 878,\n",
              " 'twice': 879,\n",
              " 'wore': 880,\n",
              " 'nodded': 881,\n",
              " 'birds': 882,\n",
              " 'thick': 883,\n",
              " 'soap': 884,\n",
              " 'won': 885,\n",
              " 'ship': 886,\n",
              " 'bass': 887,\n",
              " 'veterinary': 888,\n",
              " 'dmitritch': 889,\n",
              " 'president': 890,\n",
              " 'trail': 891,\n",
              " 'maloney': 892,\n",
              " 'bullen': 893,\n",
              " 'kentuck': 894,\n",
              " 'appeared': 895,\n",
              " 'hurt': 896,\n",
              " 'suit': 897,\n",
              " 'nobody': 898,\n",
              " 'nose': 899,\n",
              " 'fancy': 900,\n",
              " 'somehow': 901,\n",
              " 'glad': 902,\n",
              " 'evil': 903,\n",
              " 'city': 904,\n",
              " 'twelve': 905,\n",
              " 'washington': 906,\n",
              " 'surprise': 907,\n",
              " 'lieutenant': 908,\n",
              " 'smoke': 909,\n",
              " 'getting': 910,\n",
              " 'sister': 911,\n",
              " 'cook': 912,\n",
              " 'conversation': 913,\n",
              " 'sunday': 914,\n",
              " 'however': 915,\n",
              " 'person': 916,\n",
              " 'seem': 917,\n",
              " 'awake': 918,\n",
              " 'neither': 919,\n",
              " 'leaves': 920,\n",
              " 'peace': 921,\n",
              " 'position': 922,\n",
              " 'drove': 923,\n",
              " 'try': 924,\n",
              " 'opinion': 925,\n",
              " 'dream': 926,\n",
              " 'explain': 927,\n",
              " 'worth': 928,\n",
              " 'heads': 929,\n",
              " 'died': 930,\n",
              " 'slept': 931,\n",
              " 'wet': 932,\n",
              " 'movement': 933,\n",
              " 'suggested': 934,\n",
              " 'anyone': 935,\n",
              " 'single': 936,\n",
              " 'grass': 937,\n",
              " 'chance': 938,\n",
              " 'glanced': 939,\n",
              " 'today': 940,\n",
              " 'effort': 941,\n",
              " 'power': 942,\n",
              " 'abroad': 943,\n",
              " 'downward': 944,\n",
              " 'bottom': 945,\n",
              " 'comes': 946,\n",
              " 'quick': 947,\n",
              " 'wheel': 948,\n",
              " 'shore': 949,\n",
              " 'nearer': 950,\n",
              " 'ahead': 951,\n",
              " 'anyway': 952,\n",
              " 'somewhere': 953,\n",
              " 'wants': 954,\n",
              " 'pack': 955,\n",
              " 'christmas': 956,\n",
              " 'helped': 957,\n",
              " 'worse': 958,\n",
              " 'fifteen': 959,\n",
              " 'forty': 960,\n",
              " 'rubbing': 961,\n",
              " 'vankin': 962,\n",
              " 'pipe': 963,\n",
              " 'jungle': 964,\n",
              " 'cadillac': 965,\n",
              " 'cairns': 966,\n",
              " 'partner': 967,\n",
              " 'yer': 968,\n",
              " 'weeks': 969,\n",
              " 'evidently': 970,\n",
              " 'deal': 971,\n",
              " 'object': 972,\n",
              " 'throw': 973,\n",
              " 'watkins': 974,\n",
              " 'imagine': 975,\n",
              " 'month': 976,\n",
              " 'health': 977,\n",
              " 'forest': 978,\n",
              " 'opposite': 979,\n",
              " 'roof': 980,\n",
              " 'golden': 981,\n",
              " 'fashion': 982,\n",
              " 'drop': 983,\n",
              " 'drawn': 984,\n",
              " 'partly': 985,\n",
              " 'eight': 986,\n",
              " 'dozen': 987,\n",
              " 'neighbors': 988,\n",
              " 'meet': 989,\n",
              " 'picture': 990,\n",
              " 'changed': 991,\n",
              " 'group': 992,\n",
              " 'huge': 993,\n",
              " 'grown': 994,\n",
              " 'account': 995,\n",
              " 'written': 996,\n",
              " 'dreamed': 997,\n",
              " 'friendly': 998,\n",
              " 'greater': 999,\n",
              " 'reply': 1000,\n",
              " ...}"
            ]
          },
          "metadata": {},
          "execution_count": 15
        }
      ]
    },
    {
      "cell_type": "code",
      "metadata": {
        "id": "74be593b"
      },
      "source": [
        "sequences = np.array(sequences)"
      ],
      "id": "74be593b",
      "execution_count": null,
      "outputs": []
    },
    {
      "cell_type": "code",
      "metadata": {
        "colab": {
          "base_uri": "https://localhost:8080/"
        },
        "id": "e3d05ca0",
        "outputId": "09887620-3b8b-49a5-c479-fe9b80e69ccb"
      },
      "source": [
        "sequences[:2]\n",
        "#it is a 2d array\n",
        "#rows represent the line of the short stories\n",
        "#column represent the words (there are 51 cols)"
      ],
      "id": "e3d05ca0",
      "execution_count": null,
      "outputs": [
        {
          "output_type": "execute_result",
          "data": {
            "text/plain": [
              "array([[   30,   309,   846,     9,    97,   567,     5,  1890,    15,\n",
              "           12,    68,  3705,    26,   132,   524,   702,    73,    33,\n",
              "        11636,     5,     1,  2266,    22,   188,    56,   300,   969,\n",
              "            2,    73,    37,     5,    33,  5505,    18,   102,   103,\n",
              "            6, 11633,    10,   371,     4, 11630,     3,    45,   318,\n",
              "           26,   177,     4,  5504,  3703,  2805],\n",
              "       [  309,   846,     9,    97,   567,     5,  1890,    15,    12,\n",
              "           68,  3705,    26,   132,   524,   702,    73,    33, 11636,\n",
              "            5,     1,  2266,    22,   188,    56,   300,   969,     2,\n",
              "           73,    37,     5,    33,  5505,    18,   102,   103,     6,\n",
              "        11633,    10,   371,     4, 11630,     3,    45,   318,    26,\n",
              "          177,     4,  5504,  3703,  2805,     1]])"
            ]
          },
          "metadata": {},
          "execution_count": 17
        }
      ]
    },
    {
      "cell_type": "code",
      "metadata": {
        "colab": {
          "base_uri": "https://localhost:8080/"
        },
        "id": "b50d2c9b",
        "outputId": "620cf24f-6b6d-4b89-89c4-ebee7cf51279"
      },
      "source": [
        "sequences.shape #51 cols are words where we take first 50 cols(words) as x and last col(word) as y"
      ],
      "id": "b50d2c9b",
      "execution_count": null,
      "outputs": [
        {
          "output_type": "execute_result",
          "data": {
            "text/plain": [
              "(109951, 51)"
            ]
          },
          "metadata": {},
          "execution_count": 18
        }
      ]
    },
    {
      "cell_type": "markdown",
      "metadata": {
        "id": "6v4T2YpDfQEr"
      },
      "source": [
        "### Preparing data to that has to fed into the model"
      ],
      "id": "6v4T2YpDfQEr"
    },
    {
      "cell_type": "code",
      "metadata": {
        "id": "6b96ea34"
      },
      "source": [
        "#first 50 tokens(words) are x and last tokens is y\n",
        "X,y = sequences[:,:-1] , sequences[:,-1]\n",
        "#sequences[:,-1] selects only the last col\n",
        "#sequences[:,:-1] selects all cols except the last col"
      ],
      "id": "6b96ea34",
      "execution_count": null,
      "outputs": []
    },
    {
      "cell_type": "code",
      "metadata": {
        "colab": {
          "base_uri": "https://localhost:8080/"
        },
        "id": "cbf98e7d",
        "outputId": "f54f5c47-11dc-4a58-d9e8-81a252b0e9aa"
      },
      "source": [
        "X[:2]"
      ],
      "id": "cbf98e7d",
      "execution_count": null,
      "outputs": [
        {
          "output_type": "execute_result",
          "data": {
            "text/plain": [
              "array([[   30,   309,   846,     9,    97,   567,     5,  1890,    15,\n",
              "           12,    68,  3705,    26,   132,   524,   702,    73,    33,\n",
              "        11636,     5,     1,  2266,    22,   188,    56,   300,   969,\n",
              "            2,    73,    37,     5,    33,  5505,    18,   102,   103,\n",
              "            6, 11633,    10,   371,     4, 11630,     3,    45,   318,\n",
              "           26,   177,     4,  5504,  3703],\n",
              "       [  309,   846,     9,    97,   567,     5,  1890,    15,    12,\n",
              "           68,  3705,    26,   132,   524,   702,    73,    33, 11636,\n",
              "            5,     1,  2266,    22,   188,    56,   300,   969,     2,\n",
              "           73,    37,     5,    33,  5505,    18,   102,   103,     6,\n",
              "        11633,    10,   371,     4, 11630,     3,    45,   318,    26,\n",
              "          177,     4,  5504,  3703,  2805]])"
            ]
          },
          "metadata": {},
          "execution_count": 20
        }
      ]
    },
    {
      "cell_type": "code",
      "metadata": {
        "colab": {
          "base_uri": "https://localhost:8080/"
        },
        "id": "63e6944a",
        "outputId": "63d2962e-76cb-4ebf-bf82-6e87e1d070a3"
      },
      "source": [
        "y[:2]"
      ],
      "id": "63e6944a",
      "execution_count": null,
      "outputs": [
        {
          "output_type": "execute_result",
          "data": {
            "text/plain": [
              "array([2805,    1])"
            ]
          },
          "metadata": {},
          "execution_count": 21
        }
      ]
    },
    {
      "cell_type": "code",
      "metadata": {
        "colab": {
          "base_uri": "https://localhost:8080/"
        },
        "id": "44f3287b",
        "outputId": "f8968be9-7f98-438d-8eca-071e822446b5"
      },
      "source": [
        "vocabulary_size = len(tokenizer.word_index) + 1 #1 as it's stating from 1 (that word_index is from 1)\n",
        "vocabulary_size"
      ],
      "id": "44f3287b",
      "execution_count": null,
      "outputs": [
        {
          "output_type": "execute_result",
          "data": {
            "text/plain": [
              "11638"
            ]
          },
          "metadata": {},
          "execution_count": 22
        }
      ]
    },
    {
      "cell_type": "code",
      "metadata": {
        "id": "b1dd2241"
      },
      "source": [
        "y = to_categorical(y,num_classes=vocabulary_size)\n",
        "# a numpy array/vector which has integers that represent different categories is converted into a numpy array/matrix \n",
        "#which has binary values and has columns equal to the number of categories in the data.\n",
        "#X.shape[1] is 50\n",
        "seq_length = X.shape[1]"
      ],
      "id": "b1dd2241",
      "execution_count": null,
      "outputs": []
    },
    {
      "cell_type": "markdown",
      "metadata": {
        "id": "n1ZkhB7ygVR2"
      },
      "source": [
        "### Creating a function to generate stories from a given seed text"
      ],
      "id": "n1ZkhB7ygVR2"
    },
    {
      "cell_type": "code",
      "metadata": {
        "id": "QCGE-VaE4eR7"
      },
      "source": [
        "def generate_story(model,tokenizer,text_seq_len,seed_text,n_words):\n",
        "  text = []\n",
        "  for _ in range(n_words):\n",
        "    encoded = tokenizer.texts_to_sequences([seed_text])[0]\n",
        "    #the model expects the input(sentences) to be of same length hence we use the pad_sequences\n",
        "    #pre it adds 0 before the sentence\n",
        "    encoded = pad_sequences([encoded],maxlen=text_seq_len,padding='pre')\n",
        "\n",
        "    pred = model.predict(encoded) \n",
        "    y_pred = np.argmax(pred,axis=1)\n",
        "    predicted_word = ''\n",
        "    for word,index in tokenizer.word_index.items():\n",
        "      if index == y_pred:\n",
        "        predicted_word = word\n",
        "        break\n",
        "    seed_text = seed_text + ' ' + predicted_word\n",
        "    text.append(predicted_word)\n",
        "  return ' '.join(text)"
      ],
      "id": "QCGE-VaE4eR7",
      "execution_count": null,
      "outputs": []
    },
    {
      "cell_type": "markdown",
      "metadata": {
        "id": "UQyooM3Rgvh_"
      },
      "source": [
        "### Training the Bi-directional LSTM Model"
      ],
      "id": "UQyooM3Rgvh_"
    },
    {
      "cell_type": "code",
      "metadata": {
        "id": "0iWfzvPCgzSX"
      },
      "source": [
        "bi_di_lstm = Sequential()\n",
        "#input layer\n",
        "bi_di_lstm.add(Embedding(vocabulary_size,50,input_length=seq_length))\n",
        "#hidden layer 1 (LSTM layer)\n",
        "bi_di_lstm.add(Bidirectional(LSTM(100,return_sequences=True)))\n",
        "bi_di_lstm.add(Dropout(0.2))\n",
        "#hidden layer 2 (LSTM layer)\n",
        "bi_di_lstm.add(LSTM(120))\n",
        "#hidden layer 3 (dense layer)\n",
        "bi_di_lstm.add(Dense(140,activation='relu'))\n",
        "#output layer\n",
        "bi_di_lstm.add(Dense(vocabulary_size,activation='softmax'))#units=vocab size bcoz we want probability for each predicted word"
      ],
      "id": "0iWfzvPCgzSX",
      "execution_count": null,
      "outputs": []
    },
    {
      "cell_type": "code",
      "metadata": {
        "id": "rAmTvDzXgzar",
        "colab": {
          "base_uri": "https://localhost:8080/"
        },
        "outputId": "452bde3c-46ef-49e1-94bc-9149b6d2be45"
      },
      "source": [
        "bi_di_lstm.summary()"
      ],
      "id": "rAmTvDzXgzar",
      "execution_count": null,
      "outputs": [
        {
          "output_type": "stream",
          "name": "stdout",
          "text": [
            "Model: \"sequential\"\n",
            "_________________________________________________________________\n",
            " Layer (type)                Output Shape              Param #   \n",
            "=================================================================\n",
            " embedding (Embedding)       (None, 50, 50)            581900    \n",
            "                                                                 \n",
            " bidirectional (Bidirectiona  (None, 50, 200)          120800    \n",
            " l)                                                              \n",
            "                                                                 \n",
            " dropout (Dropout)           (None, 50, 200)           0         \n",
            "                                                                 \n",
            " lstm_1 (LSTM)               (None, 120)               154080    \n",
            "                                                                 \n",
            " dense (Dense)               (None, 140)               16940     \n",
            "                                                                 \n",
            " dense_1 (Dense)             (None, 11638)             1640958   \n",
            "                                                                 \n",
            "=================================================================\n",
            "Total params: 2,514,678\n",
            "Trainable params: 2,514,678\n",
            "Non-trainable params: 0\n",
            "_________________________________________________________________\n"
          ]
        }
      ]
    },
    {
      "cell_type": "code",
      "metadata": {
        "id": "lUOdD-nggzkq"
      },
      "source": [
        "bi_di_lstm.compile(loss='categorical_crossentropy',optimizer='adam',metrics=['accuracy'])"
      ],
      "id": "lUOdD-nggzkq",
      "execution_count": null,
      "outputs": []
    },
    {
      "cell_type": "code",
      "metadata": {
        "id": "KOIOuWrsgzuA",
        "colab": {
          "base_uri": "https://localhost:8080/"
        },
        "outputId": "d55c9b02-fb71-453a-b24c-817d18a36eb9"
      },
      "source": [
        "bidi_lstm_history = bi_di_lstm.fit(X,y,batch_size=256,epochs=150)"
      ],
      "id": "KOIOuWrsgzuA",
      "execution_count": null,
      "outputs": [
        {
          "output_type": "stream",
          "name": "stdout",
          "text": [
            "Epoch 1/150\n",
            "430/430 [==============================] - 41s 72ms/step - loss: 6.8940 - accuracy: 0.0665\n",
            "Epoch 2/150\n",
            "430/430 [==============================] - 31s 72ms/step - loss: 6.3632 - accuracy: 0.0833\n",
            "Epoch 3/150\n",
            "430/430 [==============================] - 31s 71ms/step - loss: 6.0573 - accuracy: 0.0997\n",
            "Epoch 4/150\n",
            "430/430 [==============================] - 31s 71ms/step - loss: 5.8654 - accuracy: 0.1116\n",
            "Epoch 5/150\n",
            "430/430 [==============================] - 31s 71ms/step - loss: 5.7260 - accuracy: 0.1184\n",
            "Epoch 6/150\n",
            "430/430 [==============================] - 31s 71ms/step - loss: 5.6191 - accuracy: 0.1233\n",
            "Epoch 7/150\n",
            "430/430 [==============================] - 31s 71ms/step - loss: 5.5263 - accuracy: 0.1274\n",
            "Epoch 8/150\n",
            "430/430 [==============================] - 31s 71ms/step - loss: 5.4450 - accuracy: 0.1314\n",
            "Epoch 9/150\n",
            "430/430 [==============================] - 31s 72ms/step - loss: 5.3666 - accuracy: 0.1359\n",
            "Epoch 10/150\n",
            "430/430 [==============================] - 31s 72ms/step - loss: 5.2875 - accuracy: 0.1400\n",
            "Epoch 11/150\n",
            "430/430 [==============================] - 31s 71ms/step - loss: 5.2025 - accuracy: 0.1444\n",
            "Epoch 12/150\n",
            "430/430 [==============================] - 31s 71ms/step - loss: 5.1170 - accuracy: 0.1489\n",
            "Epoch 13/150\n",
            "430/430 [==============================] - 31s 71ms/step - loss: 5.0313 - accuracy: 0.1532\n",
            "Epoch 14/150\n",
            "430/430 [==============================] - 31s 71ms/step - loss: 4.9440 - accuracy: 0.1562\n",
            "Epoch 15/150\n",
            "430/430 [==============================] - 31s 71ms/step - loss: 4.8580 - accuracy: 0.1594\n",
            "Epoch 16/150\n",
            "430/430 [==============================] - 31s 71ms/step - loss: 4.7733 - accuracy: 0.1635\n",
            "Epoch 17/150\n",
            "430/430 [==============================] - 31s 71ms/step - loss: 4.6909 - accuracy: 0.1673\n",
            "Epoch 18/150\n",
            "430/430 [==============================] - 31s 71ms/step - loss: 4.6104 - accuracy: 0.1698\n",
            "Epoch 19/150\n",
            "430/430 [==============================] - 31s 71ms/step - loss: 4.5298 - accuracy: 0.1745\n",
            "Epoch 20/150\n",
            "430/430 [==============================] - 31s 71ms/step - loss: 4.4526 - accuracy: 0.1784\n",
            "Epoch 21/150\n",
            "430/430 [==============================] - 31s 71ms/step - loss: 4.3785 - accuracy: 0.1837\n",
            "Epoch 22/150\n",
            "430/430 [==============================] - 31s 71ms/step - loss: 4.3063 - accuracy: 0.1875\n",
            "Epoch 23/150\n",
            "430/430 [==============================] - 31s 71ms/step - loss: 4.2319 - accuracy: 0.1930\n",
            "Epoch 24/150\n",
            "430/430 [==============================] - 31s 71ms/step - loss: 4.1640 - accuracy: 0.1986\n",
            "Epoch 25/150\n",
            "430/430 [==============================] - 31s 72ms/step - loss: 4.0951 - accuracy: 0.2035\n",
            "Epoch 26/150\n",
            "430/430 [==============================] - 31s 71ms/step - loss: 4.0315 - accuracy: 0.2103\n",
            "Epoch 27/150\n",
            "430/430 [==============================] - 31s 71ms/step - loss: 3.9693 - accuracy: 0.2157\n",
            "Epoch 28/150\n",
            "430/430 [==============================] - 31s 72ms/step - loss: 3.9065 - accuracy: 0.2232\n",
            "Epoch 29/150\n",
            "430/430 [==============================] - 31s 71ms/step - loss: 3.8479 - accuracy: 0.2280\n",
            "Epoch 30/150\n",
            "430/430 [==============================] - 31s 72ms/step - loss: 3.7910 - accuracy: 0.2342\n",
            "Epoch 31/150\n",
            "430/430 [==============================] - 31s 71ms/step - loss: 3.7370 - accuracy: 0.2403\n",
            "Epoch 32/150\n",
            "430/430 [==============================] - 31s 71ms/step - loss: 3.6870 - accuracy: 0.2464\n",
            "Epoch 33/150\n",
            "430/430 [==============================] - 31s 72ms/step - loss: 3.6376 - accuracy: 0.2516\n",
            "Epoch 34/150\n",
            "430/430 [==============================] - 31s 71ms/step - loss: 3.5870 - accuracy: 0.2585\n",
            "Epoch 35/150\n",
            "430/430 [==============================] - 31s 71ms/step - loss: 3.5387 - accuracy: 0.2646\n",
            "Epoch 36/150\n",
            "430/430 [==============================] - 31s 71ms/step - loss: 3.4963 - accuracy: 0.2700\n",
            "Epoch 37/150\n",
            "430/430 [==============================] - 31s 71ms/step - loss: 3.4495 - accuracy: 0.2759\n",
            "Epoch 38/150\n",
            "430/430 [==============================] - 31s 71ms/step - loss: 3.4105 - accuracy: 0.2808\n",
            "Epoch 39/150\n",
            "430/430 [==============================] - 31s 71ms/step - loss: 3.3690 - accuracy: 0.2853\n",
            "Epoch 40/150\n",
            "430/430 [==============================] - 31s 71ms/step - loss: 3.3312 - accuracy: 0.2929\n",
            "Epoch 41/150\n",
            "430/430 [==============================] - 31s 71ms/step - loss: 3.2897 - accuracy: 0.2971\n",
            "Epoch 42/150\n",
            "430/430 [==============================] - 31s 71ms/step - loss: 3.2545 - accuracy: 0.3041\n",
            "Epoch 43/150\n",
            "430/430 [==============================] - 31s 71ms/step - loss: 3.2201 - accuracy: 0.3066\n",
            "Epoch 44/150\n",
            "430/430 [==============================] - 31s 72ms/step - loss: 3.1826 - accuracy: 0.3124\n",
            "Epoch 45/150\n",
            "430/430 [==============================] - 31s 71ms/step - loss: 3.1482 - accuracy: 0.3192\n",
            "Epoch 46/150\n",
            "430/430 [==============================] - 31s 71ms/step - loss: 3.1147 - accuracy: 0.3226\n",
            "Epoch 47/150\n",
            "430/430 [==============================] - 31s 72ms/step - loss: 3.0810 - accuracy: 0.3279\n",
            "Epoch 48/150\n",
            "430/430 [==============================] - 31s 72ms/step - loss: 3.0460 - accuracy: 0.3339\n",
            "Epoch 49/150\n",
            "430/430 [==============================] - 31s 72ms/step - loss: 3.0106 - accuracy: 0.3389\n",
            "Epoch 50/150\n",
            "430/430 [==============================] - 31s 71ms/step - loss: 2.9873 - accuracy: 0.3440\n",
            "Epoch 51/150\n",
            "430/430 [==============================] - 31s 71ms/step - loss: 2.9573 - accuracy: 0.3476\n",
            "Epoch 52/150\n",
            "430/430 [==============================] - 31s 72ms/step - loss: 2.9228 - accuracy: 0.3534\n",
            "Epoch 53/150\n",
            "430/430 [==============================] - 31s 72ms/step - loss: 2.8973 - accuracy: 0.3577\n",
            "Epoch 54/150\n",
            "430/430 [==============================] - 31s 72ms/step - loss: 2.8653 - accuracy: 0.3620\n",
            "Epoch 55/150\n",
            "430/430 [==============================] - 31s 71ms/step - loss: 2.8394 - accuracy: 0.3654\n",
            "Epoch 56/150\n",
            "430/430 [==============================] - 31s 72ms/step - loss: 2.8129 - accuracy: 0.3691\n",
            "Epoch 57/150\n",
            "430/430 [==============================] - 31s 72ms/step - loss: 2.7863 - accuracy: 0.3759\n",
            "Epoch 58/150\n",
            "430/430 [==============================] - 31s 71ms/step - loss: 2.7606 - accuracy: 0.3786\n",
            "Epoch 59/150\n",
            "430/430 [==============================] - 31s 72ms/step - loss: 2.7363 - accuracy: 0.3838\n",
            "Epoch 60/150\n",
            "430/430 [==============================] - 31s 71ms/step - loss: 2.7069 - accuracy: 0.3884\n",
            "Epoch 61/150\n",
            "430/430 [==============================] - 31s 72ms/step - loss: 2.6804 - accuracy: 0.3930\n",
            "Epoch 62/150\n",
            "430/430 [==============================] - 31s 72ms/step - loss: 2.6606 - accuracy: 0.3946\n",
            "Epoch 63/150\n",
            "430/430 [==============================] - 31s 71ms/step - loss: 2.6313 - accuracy: 0.3999\n",
            "Epoch 64/150\n",
            "430/430 [==============================] - 31s 71ms/step - loss: 2.6054 - accuracy: 0.4039\n",
            "Epoch 65/150\n",
            "430/430 [==============================] - 31s 72ms/step - loss: 2.5858 - accuracy: 0.4085\n",
            "Epoch 66/150\n",
            "430/430 [==============================] - 31s 72ms/step - loss: 2.5600 - accuracy: 0.4124\n",
            "Epoch 67/150\n",
            "430/430 [==============================] - 31s 72ms/step - loss: 2.5366 - accuracy: 0.4165\n",
            "Epoch 68/150\n",
            "430/430 [==============================] - 31s 71ms/step - loss: 2.5172 - accuracy: 0.4205\n",
            "Epoch 69/150\n",
            "430/430 [==============================] - 31s 72ms/step - loss: 2.4896 - accuracy: 0.4253\n",
            "Epoch 70/150\n",
            "430/430 [==============================] - 31s 72ms/step - loss: 2.4694 - accuracy: 0.4261\n",
            "Epoch 71/150\n",
            "430/430 [==============================] - 31s 72ms/step - loss: 2.4485 - accuracy: 0.4331\n",
            "Epoch 72/150\n",
            "430/430 [==============================] - 31s 72ms/step - loss: 2.4298 - accuracy: 0.4352\n",
            "Epoch 73/150\n",
            "430/430 [==============================] - 31s 72ms/step - loss: 2.4069 - accuracy: 0.4397\n",
            "Epoch 74/150\n",
            "430/430 [==============================] - 31s 72ms/step - loss: 2.3843 - accuracy: 0.4435\n",
            "Epoch 75/150\n",
            "430/430 [==============================] - 31s 72ms/step - loss: 2.3677 - accuracy: 0.4469\n",
            "Epoch 76/150\n",
            "430/430 [==============================] - 31s 72ms/step - loss: 2.3462 - accuracy: 0.4514\n",
            "Epoch 77/150\n",
            "430/430 [==============================] - 31s 72ms/step - loss: 2.3289 - accuracy: 0.4531\n",
            "Epoch 78/150\n",
            "430/430 [==============================] - 31s 72ms/step - loss: 2.3041 - accuracy: 0.4577\n",
            "Epoch 79/150\n",
            "430/430 [==============================] - 31s 72ms/step - loss: 2.2877 - accuracy: 0.4601\n",
            "Epoch 80/150\n",
            "430/430 [==============================] - 31s 72ms/step - loss: 2.2679 - accuracy: 0.4639\n",
            "Epoch 81/150\n",
            "430/430 [==============================] - 31s 72ms/step - loss: 2.2497 - accuracy: 0.4683\n",
            "Epoch 82/150\n",
            "430/430 [==============================] - 31s 72ms/step - loss: 2.2288 - accuracy: 0.4714\n",
            "Epoch 83/150\n",
            "430/430 [==============================] - 31s 72ms/step - loss: 2.2077 - accuracy: 0.4754\n",
            "Epoch 84/150\n",
            "430/430 [==============================] - 31s 72ms/step - loss: 2.1902 - accuracy: 0.4798\n",
            "Epoch 85/150\n",
            "430/430 [==============================] - 31s 72ms/step - loss: 2.1772 - accuracy: 0.4801\n",
            "Epoch 86/150\n",
            "430/430 [==============================] - 31s 72ms/step - loss: 2.1553 - accuracy: 0.4859\n",
            "Epoch 87/150\n",
            "430/430 [==============================] - 31s 72ms/step - loss: 2.1455 - accuracy: 0.4877\n",
            "Epoch 88/150\n",
            "430/430 [==============================] - 31s 72ms/step - loss: 2.1300 - accuracy: 0.4898\n",
            "Epoch 89/150\n",
            "430/430 [==============================] - 31s 72ms/step - loss: 2.1083 - accuracy: 0.4922\n",
            "Epoch 90/150\n",
            "430/430 [==============================] - 31s 72ms/step - loss: 2.0846 - accuracy: 0.4996\n",
            "Epoch 91/150\n",
            "430/430 [==============================] - 31s 72ms/step - loss: 2.0718 - accuracy: 0.5001\n",
            "Epoch 92/150\n",
            "430/430 [==============================] - 31s 72ms/step - loss: 2.0544 - accuracy: 0.5026\n",
            "Epoch 93/150\n",
            "430/430 [==============================] - 31s 72ms/step - loss: 2.0372 - accuracy: 0.5090\n",
            "Epoch 94/150\n",
            "430/430 [==============================] - 31s 72ms/step - loss: 2.0224 - accuracy: 0.5102\n",
            "Epoch 95/150\n",
            "430/430 [==============================] - 31s 72ms/step - loss: 2.0088 - accuracy: 0.5124\n",
            "Epoch 96/150\n",
            "430/430 [==============================] - 31s 72ms/step - loss: 1.9926 - accuracy: 0.5161\n",
            "Epoch 97/150\n",
            "430/430 [==============================] - 31s 72ms/step - loss: 1.9730 - accuracy: 0.5195\n",
            "Epoch 98/150\n",
            "430/430 [==============================] - 31s 72ms/step - loss: 1.9599 - accuracy: 0.5229\n",
            "Epoch 99/150\n",
            "430/430 [==============================] - 31s 72ms/step - loss: 1.9439 - accuracy: 0.5251\n",
            "Epoch 100/150\n",
            "430/430 [==============================] - 31s 72ms/step - loss: 1.9322 - accuracy: 0.5282\n",
            "Epoch 101/150\n",
            "430/430 [==============================] - 31s 72ms/step - loss: 1.9128 - accuracy: 0.5314\n",
            "Epoch 102/150\n",
            "430/430 [==============================] - 31s 72ms/step - loss: 1.9036 - accuracy: 0.5333\n",
            "Epoch 103/150\n",
            "430/430 [==============================] - 31s 72ms/step - loss: 1.8853 - accuracy: 0.5365\n",
            "Epoch 104/150\n",
            "430/430 [==============================] - 31s 71ms/step - loss: 1.8683 - accuracy: 0.5423\n",
            "Epoch 105/150\n",
            "430/430 [==============================] - 31s 71ms/step - loss: 1.8678 - accuracy: 0.5403\n",
            "Epoch 106/150\n",
            "430/430 [==============================] - 31s 71ms/step - loss: 1.8518 - accuracy: 0.5432\n",
            "Epoch 107/150\n",
            "430/430 [==============================] - 30s 71ms/step - loss: 1.8366 - accuracy: 0.5455\n",
            "Epoch 108/150\n",
            "430/430 [==============================] - 30s 71ms/step - loss: 1.8192 - accuracy: 0.5496\n",
            "Epoch 109/150\n",
            "430/430 [==============================] - 31s 71ms/step - loss: 1.8057 - accuracy: 0.5529\n",
            "Epoch 110/150\n",
            "430/430 [==============================] - 30s 71ms/step - loss: 1.7938 - accuracy: 0.5552\n",
            "Epoch 111/150\n",
            "430/430 [==============================] - 31s 71ms/step - loss: 1.7792 - accuracy: 0.5569\n",
            "Epoch 112/150\n",
            "430/430 [==============================] - 31s 71ms/step - loss: 1.7676 - accuracy: 0.5616\n",
            "Epoch 113/150\n",
            "430/430 [==============================] - 31s 72ms/step - loss: 1.7605 - accuracy: 0.5612\n",
            "Epoch 114/150\n",
            "430/430 [==============================] - 31s 71ms/step - loss: 1.7486 - accuracy: 0.5648\n",
            "Epoch 115/150\n",
            "430/430 [==============================] - 31s 72ms/step - loss: 1.7328 - accuracy: 0.5676\n",
            "Epoch 116/150\n",
            "430/430 [==============================] - 31s 72ms/step - loss: 1.7248 - accuracy: 0.5699\n",
            "Epoch 117/150\n",
            "430/430 [==============================] - 31s 72ms/step - loss: 1.7085 - accuracy: 0.5716\n",
            "Epoch 118/150\n",
            "430/430 [==============================] - 31s 72ms/step - loss: 1.6970 - accuracy: 0.5724\n",
            "Epoch 119/150\n",
            "430/430 [==============================] - 31s 72ms/step - loss: 1.6861 - accuracy: 0.5768\n",
            "Epoch 120/150\n",
            "430/430 [==============================] - 31s 72ms/step - loss: 1.6819 - accuracy: 0.5778\n",
            "Epoch 121/150\n",
            "430/430 [==============================] - 31s 72ms/step - loss: 1.6705 - accuracy: 0.5798\n",
            "Epoch 122/150\n",
            "430/430 [==============================] - 31s 72ms/step - loss: 1.6530 - accuracy: 0.5839\n",
            "Epoch 123/150\n",
            "430/430 [==============================] - 31s 72ms/step - loss: 1.6418 - accuracy: 0.5857\n",
            "Epoch 124/150\n",
            "430/430 [==============================] - 31s 72ms/step - loss: 1.6366 - accuracy: 0.5868\n",
            "Epoch 125/150\n",
            "430/430 [==============================] - 31s 72ms/step - loss: 1.6225 - accuracy: 0.5894\n",
            "Epoch 126/150\n",
            "430/430 [==============================] - 31s 72ms/step - loss: 1.6129 - accuracy: 0.5918\n",
            "Epoch 127/150\n",
            "430/430 [==============================] - 31s 71ms/step - loss: 1.6014 - accuracy: 0.5941\n",
            "Epoch 128/150\n",
            "430/430 [==============================] - 31s 72ms/step - loss: 1.5897 - accuracy: 0.5962\n",
            "Epoch 129/150\n",
            "430/430 [==============================] - 31s 72ms/step - loss: 1.5792 - accuracy: 0.5987\n",
            "Epoch 130/150\n",
            "430/430 [==============================] - 31s 72ms/step - loss: 1.5599 - accuracy: 0.6048\n",
            "Epoch 131/150\n",
            "430/430 [==============================] - 31s 72ms/step - loss: 1.5629 - accuracy: 0.6027\n",
            "Epoch 132/150\n",
            "430/430 [==============================] - 31s 72ms/step - loss: 1.5484 - accuracy: 0.6055\n",
            "Epoch 133/150\n",
            "430/430 [==============================] - 31s 72ms/step - loss: 1.5376 - accuracy: 0.6082\n",
            "Epoch 134/150\n",
            "430/430 [==============================] - 31s 72ms/step - loss: 1.5308 - accuracy: 0.6091\n",
            "Epoch 135/150\n",
            "430/430 [==============================] - 31s 72ms/step - loss: 1.5267 - accuracy: 0.6103\n",
            "Epoch 136/150\n",
            "430/430 [==============================] - 31s 71ms/step - loss: 1.5158 - accuracy: 0.6107\n",
            "Epoch 137/150\n",
            "430/430 [==============================] - 31s 72ms/step - loss: 1.4950 - accuracy: 0.6187\n",
            "Epoch 138/150\n",
            "430/430 [==============================] - 31s 72ms/step - loss: 1.5004 - accuracy: 0.6138\n",
            "Epoch 139/150\n",
            "430/430 [==============================] - 31s 71ms/step - loss: 1.4800 - accuracy: 0.6195\n",
            "Epoch 140/150\n",
            "430/430 [==============================] - 31s 72ms/step - loss: 1.4826 - accuracy: 0.6188\n",
            "Epoch 141/150\n",
            "430/430 [==============================] - 31s 71ms/step - loss: 1.4654 - accuracy: 0.6221\n",
            "Epoch 142/150\n",
            "430/430 [==============================] - 31s 72ms/step - loss: 1.4521 - accuracy: 0.6263\n",
            "Epoch 143/150\n",
            "430/430 [==============================] - 31s 71ms/step - loss: 1.4438 - accuracy: 0.6262\n",
            "Epoch 144/150\n",
            "430/430 [==============================] - 31s 72ms/step - loss: 1.4401 - accuracy: 0.6272\n",
            "Epoch 145/150\n",
            "430/430 [==============================] - 31s 72ms/step - loss: 1.4319 - accuracy: 0.6314\n",
            "Epoch 146/150\n",
            "430/430 [==============================] - 31s 72ms/step - loss: 1.4209 - accuracy: 0.6321\n",
            "Epoch 147/150\n",
            "430/430 [==============================] - 31s 72ms/step - loss: 1.4083 - accuracy: 0.6336\n",
            "Epoch 148/150\n",
            "430/430 [==============================] - 31s 72ms/step - loss: 1.4005 - accuracy: 0.6368\n",
            "Epoch 149/150\n",
            "430/430 [==============================] - 31s 72ms/step - loss: 1.3999 - accuracy: 0.6351\n",
            "Epoch 150/150\n",
            "430/430 [==============================] - 31s 72ms/step - loss: 1.3834 - accuracy: 0.6409\n"
          ]
        }
      ]
    },
    {
      "cell_type": "code",
      "metadata": {
        "id": "5zQYRD_qhGeB"
      },
      "source": [
        "bi_di_lstm.save('./Bi_di_LSTM.h5')"
      ],
      "id": "5zQYRD_qhGeB",
      "execution_count": null,
      "outputs": []
    },
    {
      "cell_type": "code",
      "metadata": {
        "id": "IavMJ3Hjij44",
        "colab": {
          "base_uri": "https://localhost:8080/",
          "height": 295
        },
        "outputId": "53c742a1-80df-409e-fa98-340d73cc132d"
      },
      "source": [
        "import matplotlib.pyplot as plt\n",
        "epochs = range(len(bidi_lstm_history.history['accuracy']))\n",
        "plt.plot(epochs,bidi_lstm_history.history['accuracy'])\n",
        "plt.title(\"Bi-directional LSTM Model Training Accuracy\")\n",
        "plt.xlabel(\"Epochs\")\n",
        "plt.ylabel('Accuracy')\n",
        "plt.show()"
      ],
      "id": "IavMJ3Hjij44",
      "execution_count": null,
      "outputs": [
        {
          "output_type": "display_data",
          "data": {
            "image/png": "[encoded data removed]",
            "text/plain": [
              "<Figure size 432x288 with 1 Axes>"
            ]
          },
          "metadata": {
            "needs_background": "light"
          }
        }
      ]
    },
    {
      "cell_type": "code",
      "metadata": {
        "id": "gXolRxM4ij7i",
        "colab": {
          "base_uri": "https://localhost:8080/",
          "height": 295
        },
        "outputId": "a76d43c4-8c88-4d63-cfb0-1cbee947a7e4"
      },
      "source": [
        "plt.plot(epochs,bidi_lstm_history.history['loss'])\n",
        "plt.title(\"Bi-directional LSTM Model Training Loss\")\n",
        "plt.xlabel(\"Epochs\")\n",
        "plt.ylabel('Loss')\n",
        "plt.show()"
      ],
      "id": "gXolRxM4ij7i",
      "execution_count": null,
      "outputs": [
        {
          "output_type": "display_data",
          "data": {
            "image/png": "[encoded data removed]",
            "text/plain": [
              "<Figure size 432x288 with 1 Axes>"
            ]
          },
          "metadata": {
            "needs_background": "light"
          }
        }
      ]
    },
    {
      "cell_type": "markdown",
      "metadata": {
        "id": "hMLg1Ggujwn-"
      },
      "source": [
        "### Generating Stories from Bi-directional LSTM Model"
      ],
      "id": "hMLg1Ggujwn-"
    },
    {
      "cell_type": "code",
      "metadata": {
        "id": "W4fOGR2VjNLF",
        "colab": {
          "base_uri": "https://localhost:8080/",
          "height": 53
        },
        "outputId": "83128484-4af9-4a1c-fc47-47de1c0b075c"
      },
      "source": [
        "seed_text = \"The country was in chaos but\"\n",
        "generate_story(bi_di_lstm, tokenizer, seq_length, seed_text, 50) #generate next 50 words"
      ],
      "id": "W4fOGR2VjNLF",
      "execution_count": null,
      "outputs": [
        {
          "output_type": "execute_result",
          "data": {
            "application/vnd.google.colaboratory.intrinsic+json": {
              "type": "string"
            },
            "text/plain": [
              "'the basin and the breathing observed in lace and pearls was struggling to flagstone to flagstone every sidewalk them and as if he dared not go to words the principal went to her head and the lights he could see that the polar regions in a june thaw it was'"
            ]
          },
          "metadata": {},
          "execution_count": 32
        }
      ]
    },
    {
      "cell_type": "code",
      "metadata": {
        "id": "EhmPtXIGjNOR",
        "colab": {
          "base_uri": "https://localhost:8080/",
          "height": 53
        },
        "outputId": "7ab3bee2-ed4e-49c9-d32c-a2f68c114a0c"
      },
      "source": [
        "seed_text = \"I walked out of the store dissatisfied and it\"\n",
        "generate_story(bi_di_lstm, tokenizer, seq_length, seed_text, 50) #generate next 50 words"
      ],
      "id": "EhmPtXIGjNOR",
      "execution_count": null,
      "outputs": [
        {
          "output_type": "execute_result",
          "data": {
            "application/vnd.google.colaboratory.intrinsic+json": {
              "type": "string"
            },
            "text/plain": [
              "'looks into the stump from a chameleonlike aptitude at impressions and swimming and his room the crystal the silver the chinathey were eating borsch the rich red soup with whipped cream so dear to russian palates half apologetically general zaroff i am afraid senator you had a good slim gentleman'"
            ]
          },
          "metadata": {},
          "execution_count": 33
        }
      ]
    },
    {
      "cell_type": "code",
      "metadata": {
        "id": "GOKz-13IjNRX",
        "colab": {
          "base_uri": "https://localhost:8080/",
          "height": 53
        },
        "outputId": "a8d15d1d-729f-4df7-f5a7-80139eb5ce82"
      },
      "source": [
        "seed_text = \"The lady was known as a soothsayer - a psychic of sorts. The rubbing of her crystal ball was finalized as she completed her prophecy. Her hands were wrinkled and dirty, a strange companion to the polish of the ball she held in her hands.\"\n",
        "generate_story(bi_di_lstm, tokenizer, seq_length, seed_text, 50) #generate next 50 words"
      ],
      "id": "GOKz-13IjNRX",
      "execution_count": null,
      "outputs": [
        {
          "output_type": "execute_result",
          "data": {
            "application/vnd.google.colaboratory.intrinsic+json": {
              "type": "string"
            },
            "text/plain": [
              "'paul sank into the ooze he tried to manhood with children that he had a strange roseate faint green delicacy in the hedge she were of snuff he was either a cupboard of wild file and ease with their arrival about him in the soapy water and he distinctly heard'"
            ]
          },
          "metadata": {},
          "execution_count": 34
        }
      ]
    },
    {
      "cell_type": "code",
      "metadata": {
        "id": "LHvLPhsnjNUT",
        "colab": {
          "base_uri": "https://localhost:8080/",
          "height": 70
        },
        "outputId": "8b7b610c-2fa8-46ce-e862-6ad4d8d1fa0f"
      },
      "source": [
        "seed_text = \"Little Chandler's thoughts ever since lunch-time had been of his meeting with Gallaher, of Gallaher's invitation, and of the great city London where Gallaher lived. He was called Little Chandler because\"\n",
        "generate_story(bi_di_lstm, tokenizer, seq_length, seed_text, 100) #generate next 100 words"
      ],
      "id": "LHvLPhsnjNUT",
      "execution_count": null,
      "outputs": [
        {
          "output_type": "execute_result",
          "data": {
            "application/vnd.google.colaboratory.intrinsic+json": {
              "type": "string"
            },
            "text/plain": [
              "'questioned the crackling of the sea among fancy the blond fur of his overcoat his drivers of the mother better counsels prevailed and a fragment of variegated quartz a row of mud shacks at the end of the wharf a straight dollars under the lodge and the yellow moments of the rounding sun some yacht the room touched and every time he wore a towel and brandy and food of my bedroom and they could watch him approach and keeping it back of the supper and the greater walk of the pantry and deserted she had waked from a cold'"
            ]
          },
          "metadata": {},
          "execution_count": 35
        }
      ]
    },
    {
      "cell_type": "code",
      "metadata": {
        "id": "cX1834XnjNW7",
        "colab": {
          "base_uri": "https://localhost:8080/",
          "height": 70
        },
        "outputId": "a2810392-ddc8-4601-eb4d-d0fe4e7cd42d"
      },
      "source": [
        "seed_text = \"On the morning of the fifth of September, in uniform, his revolver on the table, the colonel addressed his soliders and\"\n",
        "generate_story(bi_di_lstm, tokenizer, seq_length, seed_text, 100) #generate next 100 words"
      ],
      "id": "cX1834XnjNW7",
      "execution_count": null,
      "outputs": [
        {
          "output_type": "execute_result",
          "data": {
            "application/vnd.google.colaboratory.intrinsic+json": {
              "type": "string"
            },
            "text/plain": [
              "'a matter which the passing of a wild gallop and a row of mud shacks into the direction of the toothless old woman when the giant his eyes descended they were smiling over the candlebox half from his brother s brain it prevented him half holding him to his white shadow when it was uncomfortably at the back of the situation or trees the wind shot their noses and looked into the gate and ran into the direction of the exit gate the hired car was still unfortunately before the dripping spiggots her human doubt going along and down at'"
            ]
          },
          "metadata": {},
          "execution_count": 36
        }
      ]
    },
    {
      "cell_type": "code",
      "metadata": {
        "id": "G_Q5XdMrjNZt",
        "colab": {
          "base_uri": "https://localhost:8080/",
          "height": 53
        },
        "outputId": "2305f58c-6c60-4947-b61b-4b41e5affb1b"
      },
      "source": [
        "seed_text = \"On Christmas Eve around 1978, when I was a young boy, after having the traditional pastry and cookies and after having sung around the fire, I, with my sister, my mother and my aunts, and Emma Jackman and her son, got into Emma Jackman's car and then later\"\n",
        "generate_story(bi_di_lstm, tokenizer, seq_length, seed_text, 100) #generate next 100 words"
      ],
      "id": "G_Q5XdMrjNZt",
      "execution_count": null,
      "outputs": [
        {
          "output_type": "execute_result",
          "data": {
            "application/vnd.google.colaboratory.intrinsic+json": {
              "type": "string"
            },
            "text/plain": [
              "'then composing me to dodge a basin and so as they accepted to know this is now admiring the seashell way striding up on the beach stumpy was not a quarter of her thank them it may be no longer they wo nt give him a weak and vigor do not know that i ve got a surprise for you i do nt know why i bet you to humour it i want to correct you carry you will make it up and i am as caliban among the freezer oh i do nt know you before you d be'"
            ]
          },
          "metadata": {},
          "execution_count": 37
        }
      ]
    }
  ]
}